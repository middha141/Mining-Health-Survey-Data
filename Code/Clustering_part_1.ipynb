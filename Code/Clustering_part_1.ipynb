{
 "cells": [
  {
   "cell_type": "markdown",
   "metadata": {},
   "source": [
    "### Importing the required libraries"
   ]
  },
  {
   "cell_type": "code",
   "execution_count": 1,
   "metadata": {},
   "outputs": [],
   "source": [
    "import pandas as pd\n",
    "import numpy as np\n",
    "import math\n",
    "import os"
   ]
  },
  {
   "cell_type": "markdown",
   "metadata": {},
   "source": [
    "### Importing the CSV files(non-encoded and encoded) into Pandas data frames"
   ]
  },
  {
   "cell_type": "code",
   "execution_count": 2,
   "metadata": {},
   "outputs": [],
   "source": [
    "encoded_data =  pd.read_csv(\"../Data/Processed/encoded.csv\",low_memory=False)"
   ]
  },
  {
   "cell_type": "code",
   "execution_count": 3,
   "metadata": {},
   "outputs": [],
   "source": [
    "processed_data = pd.read_csv(\"../Data/Processed/processed.csv\",low_memory=False)"
   ]
  },
  {
   "cell_type": "markdown",
   "metadata": {},
   "source": [
    "#### Specifying attributes to be considered for clustering"
   ]
  },
  {
   "cell_type": "code",
   "execution_count": 4,
   "metadata": {},
   "outputs": [],
   "source": [
    "attr=['age','highest_qualification','no_of_dwelling_rooms','status_of_living','illness_type_No Illness']"
   ]
  },
  {
   "cell_type": "markdown",
   "metadata": {},
   "source": [
    "#### Selecting respective columns and normalizing the data"
   ]
  },
  {
   "cell_type": "code",
   "execution_count": 5,
   "metadata": {},
   "outputs": [],
   "source": [
    "clustering_data=encoded_data[attr]\n",
    "\n",
    "clustering_data_norm=(clustering_data-clustering_data.mean())/clustering_data.std()"
   ]
  },
  {
   "cell_type": "markdown",
   "metadata": {},
   "source": [
    "#### Specifying feature attributes and target attributes"
   ]
  },
  {
   "cell_type": "code",
   "execution_count": 6,
   "metadata": {},
   "outputs": [],
   "source": [
    "x=clustering_data_norm[['age','highest_qualification','no_of_dwelling_rooms','status_of_living']].values\n",
    "\n",
    "y=clustering_data_norm['illness_type_No Illness'].values"
   ]
  },
  {
   "cell_type": "markdown",
   "metadata": {},
   "source": [
    "Specifying the no of clusters as 2 and selecting the initial centroids"
   ]
  },
  {
   "cell_type": "code",
   "execution_count": 25,
   "metadata": {},
   "outputs": [],
   "source": [
    "k=2 # no of clusters\n",
    "Centroid=x[np.random.randint(x.shape[0], size=k), :]\n",
    "Centroid_1 = Centroid[0]\n",
    "Centroid_2 = Centroid[1]\n",
    "#Centroid_1 = x[0]\n",
    "#Centroid_2 = x[9999]\n",
    "# Centroid array"
   ]
  },
  {
   "cell_type": "code",
   "execution_count": 26,
   "metadata": {},
   "outputs": [],
   "source": [
    "Euclidean_Distance=np.zeros(shape=(len(clustering_data),2))\n",
    "# 2D array to store distances from each point to the 2 centroids "
   ]
  },
  {
   "cell_type": "markdown",
   "metadata": {},
   "source": [
    "Finding distance from all points to the 2 centroids"
   ]
  },
  {
   "cell_type": "code",
   "execution_count": 27,
   "metadata": {},
   "outputs": [],
   "source": [
    "Euclidean_Distance[:,0]=np.sum((x-Centroid_1)**2,axis=1)\n",
    "Euclidean_Distance[:,1]=np.sum((x-Centroid_2)**2,axis=1)"
   ]
  },
  {
   "cell_type": "code",
   "execution_count": 28,
   "metadata": {},
   "outputs": [],
   "source": [
    "C=np.argmin(Euclidean_Distance,axis=1)+1\n",
    "# Array C stores the assigned cluster number of each point"
   ]
  },
  {
   "cell_type": "code",
   "execution_count": 29,
   "metadata": {},
   "outputs": [],
   "source": [
    "n1 = np.count_nonzero(C == 1)\n",
    "n2 = np.count_nonzero(C == 2)\n",
    "# Counting the no of points in clusters 1 and 2"
   ]
  },
  {
   "cell_type": "markdown",
   "metadata": {},
   "source": [
    "### Running k-means for 100 iterations"
   ]
  },
  {
   "cell_type": "code",
   "execution_count": 30,
   "metadata": {},
   "outputs": [],
   "source": [
    "for i in range(100):\n",
    "    Euclidean_Distance[:,0]=np.sum((x-Centroid_1)**2,axis=1)\n",
    "    Euclidean_Distance[:,1]=np.sum((x-Centroid_2)**2,axis=1)\n",
    "    C=np.argmin(Euclidean_Distance,axis=1)+1\n",
    "    n1 = np.count_nonzero(C == 1)\n",
    "    n2 = np.count_nonzero(C == 2)\n",
    "    Centroid_1=0\n",
    "    Centroid_2=0\n",
    "    for i in range(len(clustering_data)):\n",
    "        if(C[i]==1):\n",
    "            Centroid_1+=x[i]\n",
    "        else:\n",
    "            Centroid_2+=x[i]\n",
    "    Centroid_1=Centroid_1/n1\n",
    "    Centroid_2=Centroid_2/n2\n",
    "# Running k-means for 100 iterations"
   ]
  },
  {
   "cell_type": "code",
   "execution_count": 31,
   "metadata": {},
   "outputs": [
    {
     "data": {
      "text/plain": [
       " 0.370387    964568\n",
       "-2.699875    132326\n",
       "Name: illness_type_No Illness, dtype: int64"
      ]
     },
     "execution_count": 31,
     "metadata": {},
     "output_type": "execute_result"
    }
   ],
   "source": [
    "clustering_data_norm['illness_type_No Illness'].value_counts()"
   ]
  },
  {
   "cell_type": "markdown",
   "metadata": {},
   "source": [
    "### Finding the accuracy of the clustering"
   ]
  },
  {
   "cell_type": "code",
   "execution_count": 33,
   "metadata": {},
   "outputs": [
    {
     "name": "stdout",
     "output_type": "stream",
     "text": [
      "0.5911820102945226\n"
     ]
    }
   ],
   "source": [
    "Den=len(clustering_data)\n",
    "num=0\n",
    "for i in range(len(clustering_data)):\n",
    "    if(C[i]==2 and clustering_data_norm['illness_type_No Illness'][i]>0):\n",
    "        num+=1\n",
    "    elif(C[i]==1 and clustering_data_norm['illness_type_No Illness'][i]<0):\n",
    "        num+=1\n",
    "Accuracy = num/Den\n",
    "print(Accuracy)"
   ]
  },
  {
   "cell_type": "markdown",
   "metadata": {},
   "source": [
    "#### Denormalizing and finding inferences from the results"
   ]
  },
  {
   "cell_type": "code",
   "execution_count": 34,
   "metadata": {},
   "outputs": [],
   "source": [
    "std=clustering_data[['age','highest_qualification','no_of_dwelling_rooms','status_of_living']].std().values"
   ]
  },
  {
   "cell_type": "code",
   "execution_count": 35,
   "metadata": {},
   "outputs": [],
   "source": [
    "avg=clustering_data[['age','highest_qualification','no_of_dwelling_rooms','status_of_living']].mean().values"
   ]
  },
  {
   "cell_type": "code",
   "execution_count": 36,
   "metadata": {},
   "outputs": [],
   "source": [
    "Centroid_1_denorm = np.multiply(Centroid_1,std)+avg"
   ]
  },
  {
   "cell_type": "code",
   "execution_count": 37,
   "metadata": {},
   "outputs": [],
   "source": [
    "Centroid_2_denorm = np.multiply(Centroid_2,std)+avg"
   ]
  },
  {
   "cell_type": "code",
   "execution_count": 38,
   "metadata": {},
   "outputs": [
    {
     "data": {
      "text/plain": [
       "array([43.18751182,  0.49850727,  1.74535223,  0.85637158])"
      ]
     },
     "execution_count": 38,
     "metadata": {},
     "output_type": "execute_result"
    }
   ],
   "source": [
    "Centroid_1_denorm\n",
    "# Centroid with more probability of being ill"
   ]
  },
  {
   "cell_type": "code",
   "execution_count": 39,
   "metadata": {},
   "outputs": [
    {
     "data": {
      "text/plain": [
       "array([21.1152398 ,  3.69076357,  2.21422241,  1.41311967])"
      ]
     },
     "execution_count": 39,
     "metadata": {},
     "output_type": "execute_result"
    }
   ],
   "source": [
    "Centroid_2_denorm\n",
    "# Centroid with more probability of being healthy"
   ]
  }
 ],
 "metadata": {
  "kernelspec": {
   "display_name": "Python 3",
   "language": "python",
   "name": "python3"
  },
  "language_info": {
   "codemirror_mode": {
    "name": "ipython",
    "version": 3
   },
   "file_extension": ".py",
   "mimetype": "text/x-python",
   "name": "python",
   "nbconvert_exporter": "python",
   "pygments_lexer": "ipython3",
   "version": "3.6.9"
  }
 },
 "nbformat": 4,
 "nbformat_minor": 2
}
