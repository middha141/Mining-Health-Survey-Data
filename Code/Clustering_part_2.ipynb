{
 "cells": [
  {
   "cell_type": "markdown",
   "metadata": {},
   "source": [
    "### Importing the required libraries"
   ]
  },
  {
   "cell_type": "code",
   "execution_count": 1,
   "metadata": {},
   "outputs": [],
   "source": [
    "import pandas as pd\n",
    "import numpy as np\n",
    "import math\n",
    "import os"
   ]
  },
  {
   "cell_type": "markdown",
   "metadata": {},
   "source": [
    "### Importing the CSV files(non-encoded and encoded) into Pandas data frames\n"
   ]
  },
  {
   "cell_type": "code",
   "execution_count": 2,
   "metadata": {},
   "outputs": [],
   "source": [
    "encoded_data = pd.read_csv(\"../Data/Processed/encoded.csv\",low_memory=False)"
   ]
  },
  {
   "cell_type": "code",
   "execution_count": 3,
   "metadata": {},
   "outputs": [],
   "source": [
    "processed_data = pd.read_csv(\"../Data/Processed/processed.csv\",low_memory=False)"
   ]
  },
  {
   "cell_type": "markdown",
   "metadata": {},
   "source": [
    "#### Specifying attributes to be considered for clustering"
   ]
  },
  {
   "cell_type": "code",
   "execution_count": 4,
   "metadata": {},
   "outputs": [],
   "source": [
    "attr=['age','highest_qualification','no_of_dwelling_rooms','status_of_living']"
   ]
  },
  {
   "cell_type": "markdown",
   "metadata": {},
   "source": [
    "### Initial preprocessing and sampling"
   ]
  },
  {
   "cell_type": "code",
   "execution_count": 5,
   "metadata": {},
   "outputs": [
    {
     "name": "stderr",
     "output_type": "stream",
     "text": [
      "/home/nimit/.local/lib/python3.6/site-packages/ipykernel_launcher.py:3: SettingWithCopyWarning: \n",
      "A value is trying to be set on a copy of a slice from a DataFrame.\n",
      "Try using .loc[row_indexer,col_indexer] = value instead\n",
      "\n",
      "See the caveats in the documentation: http://pandas.pydata.org/pandas-docs/stable/user_guide/indexing.html#returning-a-view-versus-a-copy\n",
      "  This is separate from the ipykernel package so we can avoid doing imports until\n"
     ]
    }
   ],
   "source": [
    "clustering_data=encoded_data[attr] # Our dataset for clustering purposes\n",
    "\n",
    "clustering_data['diagnosed_for']=processed_data['diagnosed_for'] # Including the column for diagnosed disease\n",
    "\n",
    "clustering_sample = clustering_data.sample(n=100000) # Taking a random sample from the dataset\n",
    "\n",
    "x=clustering_sample[['age','highest_qualification','no_of_dwelling_rooms','status_of_living']].values \n",
    "\n",
    "x=(x-x.mean())/x.std()\n",
    "#normalizing the data to avoid scaling errors and issues\n",
    "\n",
    "k=len(clustering_data['diagnosed_for'].unique()) #No of clusters defined = no of unique values of target attribute\n",
    "\n",
    "Euclidean_Distance=np.zeros(shape=(len(clustering_sample),k))\n",
    "# 2D array denoting distance of each point from each centroid"
   ]
  },
  {
   "cell_type": "markdown",
   "metadata": {},
   "source": [
    "#### Initialzing the centroids"
   ]
  },
  {
   "cell_type": "code",
   "execution_count": 6,
   "metadata": {},
   "outputs": [],
   "source": [
    "Centroid=x[np.random.randint(x.shape[0], size=k), :]\n",
    "# Centroid array"
   ]
  },
  {
   "cell_type": "markdown",
   "metadata": {},
   "source": [
    "Computing distance of each point from every centroid"
   ]
  },
  {
   "cell_type": "code",
   "execution_count": 7,
   "metadata": {},
   "outputs": [],
   "source": [
    "for i in range(k):\n",
    "    Euclidean_Distance[:,i]=np.sum((x-Centroid[i])**2,axis=1)"
   ]
  },
  {
   "cell_type": "markdown",
   "metadata": {},
   "source": [
    "Assigning the cluster based on minimum distance"
   ]
  },
  {
   "cell_type": "code",
   "execution_count": 8,
   "metadata": {},
   "outputs": [],
   "source": [
    "C=np.argmin(Euclidean_Distance,axis=1)+1"
   ]
  },
  {
   "cell_type": "markdown",
   "metadata": {},
   "source": [
    "Counting no of points in each cluster"
   ]
  },
  {
   "cell_type": "code",
   "execution_count": 9,
   "metadata": {},
   "outputs": [],
   "source": [
    "n = np.zeros((k,1))\n",
    "for i in range(k):\n",
    "    n[i] = np.count_nonzero(C == i+1)"
   ]
  },
  {
   "cell_type": "markdown",
   "metadata": {},
   "source": [
    "Running k means for 100 iterations"
   ]
  },
  {
   "cell_type": "code",
   "execution_count": 10,
   "metadata": {},
   "outputs": [],
   "source": [
    "for i in range(100):\n",
    "    for i in range(k):\n",
    "        Euclidean_Distance[:,i]=np.sum((x-Centroid[i])**2,axis=1)\n",
    "    C=np.argmin(Euclidean_Distance,axis=1)+1\n",
    "    for i in range(k):\n",
    "        n[i] = np.count_nonzero(C == i+1)\n",
    "    #print(n)\n",
    "    Centroid.fill(0)\n",
    "    for i in range(len(clustering_sample)):\n",
    "        Centroid[C[i]-1]+=x[i];\n",
    "    for i in range(k):\n",
    "        if(n[i]>0):\n",
    "            Centroid[i]=Centroid[i]/n[i]"
   ]
  },
  {
   "cell_type": "code",
   "execution_count": 21,
   "metadata": {},
   "outputs": [],
   "source": [
    "clustering_sample_val = clustering_sample.values"
   ]
  },
  {
   "cell_type": "code",
   "execution_count": 22,
   "metadata": {},
   "outputs": [],
   "source": [
    "D = clustering_data['diagnosed_for'].unique()"
   ]
  },
  {
   "cell_type": "code",
   "execution_count": 23,
   "metadata": {},
   "outputs": [
    {
     "data": {
      "text/plain": [
       "array(['Not diagnosed', 'Cataract', 'Asthma/chronic respiratory failure',\n",
       "       'Tuberculosis', 'Diabetes', 'Chronic heart disease',\n",
       "       'Hypertension', 'Anaemia', 'Goitre/ Thyroid disorder',\n",
       "       'Others(Hernia;Hydrocele;Peptic Ulcer etc)', 'Renal stone',\n",
       "       'Chronic liver disease', 'Rheumatoid arthritis / osteoarthritis',\n",
       "       'Cancer-Genitourinary system', 'Flourosis',\n",
       "       'Stroke/Cerebrovascular accident',\n",
       "       'Piles/Anal fissure & Anal fistula', 'Glaucoma', 'Skin Cancer',\n",
       "       'Epilepsy', 'Tumour(any type)', 'Pyorrhea',\n",
       "       'Gall stone /cholecystitis', 'Chronic skin diseases - psoriasis',\n",
       "       'Cancer-Respiratory system', 'Blood cancer/leukemia',\n",
       "       'Sinusitis,Tonsilitis', 'Cancer-Gastro-intestinal system',\n",
       "       'Leprosy', 'Myocardial infarction/heart attack',\n",
       "       'Chronic renal failure', 'Cancer-Breast',\n",
       "       'Others (Hernia;hydrocele;peptic ulcer etc)',\n",
       "       'Chronic heart disease/failure', 'Chronic liver failure',\n",
       "       'Rheumatic fever/Rheumatic heart disease'], dtype=object)"
      ]
     },
     "execution_count": 23,
     "metadata": {},
     "output_type": "execute_result"
    }
   ],
   "source": [
    "D"
   ]
  },
  {
   "cell_type": "code",
   "execution_count": 24,
   "metadata": {},
   "outputs": [],
   "source": [
    "disease={}\n",
    "for i in range(len(D)):\n",
    "    disease[D[i]]=i+1\n",
    "# dictionary to assign a unique number to each diagnosis"
   ]
  },
  {
   "cell_type": "code",
   "execution_count": 25,
   "metadata": {},
   "outputs": [
    {
     "data": {
      "text/plain": [
       "{'Not diagnosed': 1,\n",
       " 'Cataract': 2,\n",
       " 'Asthma/chronic respiratory failure': 3,\n",
       " 'Tuberculosis': 4,\n",
       " 'Diabetes': 5,\n",
       " 'Chronic heart disease': 6,\n",
       " 'Hypertension': 7,\n",
       " 'Anaemia': 8,\n",
       " 'Goitre/ Thyroid disorder': 9,\n",
       " 'Others(Hernia;Hydrocele;Peptic Ulcer etc)': 10,\n",
       " 'Renal stone': 11,\n",
       " 'Chronic liver disease': 12,\n",
       " 'Rheumatoid arthritis / osteoarthritis': 13,\n",
       " 'Cancer-Genitourinary system': 14,\n",
       " 'Flourosis': 15,\n",
       " 'Stroke/Cerebrovascular accident': 16,\n",
       " 'Piles/Anal fissure & Anal fistula': 17,\n",
       " 'Glaucoma': 18,\n",
       " 'Skin Cancer': 19,\n",
       " 'Epilepsy': 20,\n",
       " 'Tumour(any type)': 21,\n",
       " 'Pyorrhea': 22,\n",
       " 'Gall stone /cholecystitis': 23,\n",
       " 'Chronic skin diseases - psoriasis': 24,\n",
       " 'Cancer-Respiratory system': 25,\n",
       " 'Blood cancer/leukemia': 26,\n",
       " 'Sinusitis,Tonsilitis': 27,\n",
       " 'Cancer-Gastro-intestinal system': 28,\n",
       " 'Leprosy': 29,\n",
       " 'Myocardial infarction/heart attack': 30,\n",
       " 'Chronic renal failure': 31,\n",
       " 'Cancer-Breast': 32,\n",
       " 'Others (Hernia;hydrocele;peptic ulcer etc)': 33,\n",
       " 'Chronic heart disease/failure': 34,\n",
       " 'Chronic liver failure': 35,\n",
       " 'Rheumatic fever/Rheumatic heart disease': 36}"
      ]
     },
     "execution_count": 25,
     "metadata": {},
     "output_type": "execute_result"
    }
   ],
   "source": [
    "disease"
   ]
  },
  {
   "cell_type": "code",
   "execution_count": 26,
   "metadata": {},
   "outputs": [],
   "source": [
    "for i in range(len(clustering_sample_val)):\n",
    "    clustering_sample_val[i][4]=disease[clustering_sample_val[i][4]]\n",
    "# assigning numbers to each diagnosis"
   ]
  },
  {
   "cell_type": "code",
   "execution_count": 27,
   "metadata": {},
   "outputs": [],
   "source": [
    "clustering_sample_val = clustering_sample_val.astype('float64')"
   ]
  },
  {
   "cell_type": "code",
   "execution_count": 28,
   "metadata": {},
   "outputs": [],
   "source": [
    "cluster_to_disease={}\n",
    "# Dictionary to assign disease to cluster based on max voting"
   ]
  },
  {
   "cell_type": "code",
   "execution_count": 29,
   "metadata": {},
   "outputs": [],
   "source": [
    "C1=np.matrix(C)\n",
    "\n",
    "C1=C1.T\n",
    "\n",
    "C2=np.asarray(C1)"
   ]
  },
  {
   "cell_type": "code",
   "execution_count": 30,
   "metadata": {},
   "outputs": [],
   "source": [
    "clustering_sample_val = np.append(clustering_sample_val, C2, axis = 1)"
   ]
  },
  {
   "cell_type": "code",
   "execution_count": 31,
   "metadata": {},
   "outputs": [],
   "source": [
    "clustering_sample_val[:,[4, 5]] = clustering_sample_val[:,[5, 4]]"
   ]
  },
  {
   "cell_type": "markdown",
   "metadata": {},
   "source": [
    "#### Assigning a diagnosis to each cluster based on max vote ignoring people who have not been diagnosed with anything"
   ]
  },
  {
   "cell_type": "code",
   "execution_count": 32,
   "metadata": {},
   "outputs": [],
   "source": [
    "for i in range(1,len(D)+1):\n",
    "    a=clustering_sample_val[clustering_sample_val[:,4]==i][:,5]\n",
    "    (values,counts) = np.unique(a,return_counts=True)\n",
    "    if(values.size>1):\n",
    "        ind=np.argmax(np.delete(counts,0))\n",
    "        #print(ind)\n",
    "        cluster_to_disease[i]=values[ind+1]\n",
    "    else:\n",
    "        ind=np.argmax(counts)\n",
    "        cluster_to_disease[i]=values[ind]\n",
    "# assigning disease to cluster based on max vote"
   ]
  },
  {
   "cell_type": "code",
   "execution_count": 34,
   "metadata": {},
   "outputs": [
    {
     "data": {
      "text/plain": [
       "'Renal stone'"
      ]
     },
     "execution_count": 34,
     "metadata": {},
     "output_type": "execute_result"
    }
   ],
   "source": [
    "D[10]"
   ]
  },
  {
   "cell_type": "code",
   "execution_count": 35,
   "metadata": {},
   "outputs": [
    {
     "data": {
      "text/plain": [
       "'Cancer-Genitourinary system'"
      ]
     },
     "execution_count": 35,
     "metadata": {},
     "output_type": "execute_result"
    }
   ],
   "source": [
    "D[13]"
   ]
  },
  {
   "cell_type": "code",
   "execution_count": 36,
   "metadata": {},
   "outputs": [],
   "source": [
    "count_renal_stone=0\n",
    "count_cancer_genitourinary_system=0"
   ]
  },
  {
   "cell_type": "code",
   "execution_count": 37,
   "metadata": {},
   "outputs": [],
   "source": [
    "for key in cluster_to_disease:\n",
    "    if cluster_to_disease[key]==10:\n",
    "        count_renal_stone+=1\n",
    "        \n",
    "    elif cluster_to_disease[key]==13:\n",
    "        count_cancer_genitourinary_system+=1\n",
    "        "
   ]
  },
  {
   "cell_type": "markdown",
   "metadata": {},
   "source": [
    "#### Denormalizing the centroids of these clusters and then comparing their attribute values"
   ]
  },
  {
   "cell_type": "code",
   "execution_count": 41,
   "metadata": {},
   "outputs": [],
   "source": [
    "Mean_renal_stone = np.zeros(shape=(1,4),dtype=float)\n",
    "Mean_cancer_genitourinary_system = np.zeros(shape=(1,4),dtype=float)"
   ]
  },
  {
   "cell_type": "code",
   "execution_count": 42,
   "metadata": {},
   "outputs": [],
   "source": [
    "for i in range(1,k+1):\n",
    "    if cluster_to_disease[i]==10:\n",
    "        Mean_renal_stone += Centroid[i-1]\n",
    "    elif cluster_to_disease[i]==13:\n",
    "        Mean_cancer_genitourinary_system += Centroid[i-1]"
   ]
  },
  {
   "cell_type": "code",
   "execution_count": 43,
   "metadata": {},
   "outputs": [],
   "source": [
    "Mean_renal_stone/=count_renal_stone\n",
    "Mean_cancer_genitourinary_system/=count_cancer_genitourinary_system"
   ]
  },
  {
   "cell_type": "code",
   "execution_count": 46,
   "metadata": {},
   "outputs": [],
   "source": [
    "Mean_denorm=clustering_sample[['age','highest_qualification','no_of_dwelling_rooms','status_of_living']].values.mean()"
   ]
  },
  {
   "cell_type": "code",
   "execution_count": 47,
   "metadata": {},
   "outputs": [],
   "source": [
    "Std_denorm=clustering_sample[['age','highest_qualification','no_of_dwelling_rooms','status_of_living']].values.std()"
   ]
  },
  {
   "cell_type": "code",
   "execution_count": 48,
   "metadata": {},
   "outputs": [],
   "source": [
    "Mean_renal_stone_denorm=np.multiply(Mean_renal_stone,Std_denorm)+Mean_denorm"
   ]
  },
  {
   "cell_type": "code",
   "execution_count": 49,
   "metadata": {},
   "outputs": [],
   "source": [
    "Mean_cancer_genitourinary_system_denorm=np.multiply(Mean_cancer_genitourinary_system,Std_denorm)+Mean_denorm"
   ]
  },
  {
   "cell_type": "code",
   "execution_count": 50,
   "metadata": {},
   "outputs": [
    {
     "data": {
      "text/plain": [
       "array([[34.97975286,  3.87952635,  3.22931999,  2.06376392]])"
      ]
     },
     "execution_count": 50,
     "metadata": {},
     "output_type": "execute_result"
    }
   ],
   "source": [
    "Mean_renal_stone_denorm"
   ]
  },
  {
   "cell_type": "code",
   "execution_count": 51,
   "metadata": {},
   "outputs": [
    {
     "data": {
      "text/plain": [
       "array([[26.6176507 ,  2.36312167,  1.97596528,  1.20382206]])"
      ]
     },
     "execution_count": 51,
     "metadata": {},
     "output_type": "execute_result"
    }
   ],
   "source": [
    "Mean_cancer_genitourinary_system_denorm"
   ]
  }
 ],
 "metadata": {
  "kernelspec": {
   "display_name": "Python 3",
   "language": "python",
   "name": "python3"
  },
  "language_info": {
   "codemirror_mode": {
    "name": "ipython",
    "version": 3
   },
   "file_extension": ".py",
   "mimetype": "text/x-python",
   "name": "python",
   "nbconvert_exporter": "python",
   "pygments_lexer": "ipython3",
   "version": "3.6.9"
  }
 },
 "nbformat": 4,
 "nbformat_minor": 2
}
